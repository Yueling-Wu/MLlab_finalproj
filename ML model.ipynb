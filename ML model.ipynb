{
 "cells": [
  {
   "cell_type": "code",
   "execution_count": 1,
   "metadata": {},
   "outputs": [],
   "source": [
    "!pip install category_encoders"
   ]
  },
  {
   "cell_type": "code",
   "execution_count": null,
   "metadata": {},
   "outputs": [],
   "source": [
    "import pandas as pd\n",
    "import numpy as np\n",
    "from sklearn.pipeline import Pipeline\n",
    "from sklearn.preprocessing import *\n",
    "from sklearn.impute import *\n",
    "from sklearn.compose import *\n",
    "from category_encoders import *\n",
    "from sklearn.linear_model import *\n",
    "from sklearn.metrics import *\n",
    "from sklearn.model_selection import cross_val_score, RandomizedSearchCV, train_test_split\n",
    "from sklearn.decomposition import PCA\n",
    "from sklearn.experimental import enable_iterative_imputer\n",
    "from sklearn.impute import IterativeImputer\n",
    "from sklearn.base import TransformerMixin, BaseEstimator, clone\n",
    "from sklearn.tree import DecisionTreeClassifier\n",
    "import matplotlib.pyplot as plt\n",
    "import warnings\n",
    "warnings.filterwarnings(\"ignore\")"
   ]
  },
  {
   "cell_type": "markdown",
   "metadata": {},
   "source": [
    "# Preprocessing and Feature Objects"
   ]
  },
  {
   "cell_type": "code",
   "execution_count": 2,
   "metadata": {},
   "outputs": [],
   "source": [
    "sales = pd.read_csv('summer_products.csv')"
   ]
  },
  {
   "cell_type": "code",
   "execution_count": 3,
   "metadata": {},
   "outputs": [],
   "source": [
    "# It isn't included in pipeline TransformedTargetRegressor bc i don't need to transform y back\n",
    "class ResponseColumnTransfomer(BaseEstimator, TransformerMixin):\n",
    "    \"\"\"Prepare response column. When units_sold>=1000, set 1, else set 0.\"\"\"\n",
    "\n",
    "    def __init__(self, columns):\n",
    "        self.columns = columns\n",
    "\n",
    "    def transform(self, X, y=None):\n",
    "        X[self.columns] = 1*(X[self.columns] >= 1000)\n",
    "        return X\n",
    "\n",
    "    def fit(self, X, y=None):\n",
    "        return self"
   ]
  },
  {
   "cell_type": "code",
   "execution_count": 4,
   "metadata": {},
   "outputs": [],
   "source": [
    "rcf = ResponseColumnTransfomer(columns='units_sold')\n",
    "sales = rcf.fit(sales).transform(sales)"
   ]
  },
  {
   "cell_type": "code",
   "execution_count": 5,
   "metadata": {},
   "outputs": [],
   "source": [
    "# delete most string-type columns, ids, website links and images\n",
    "x_cols = ['price', 'retail_price', 'uses_ad_boosts', 'rating', 'badges_count',\n",
    "          'badge_local_product', 'badge_product_quality', 'badge_fast_shipping',\n",
    "          'product_variation_inventory', 'product_color', 'product_variation_size_id',\n",
    "          'shipping_option_name', 'shipping_option_price', 'shipping_is_express',\n",
    "          'countries_shipped_to', 'origin_country', 'merchant_rating_count',\n",
    "          'merchant_rating', 'merchant_has_profile_picture']\n",
    "y_col = 'units_sold'  # response variable\n",
    "\n",
    "X = sales[x_cols]\n",
    "y = sales[y_col]\n",
    "\n",
    "X_train, X_test, y_train, y_test = train_test_split(X, y, test_size=0.1)"
   ]
  },
  {
   "cell_type": "code",
   "execution_count": 6,
   "metadata": {},
   "outputs": [],
   "source": [
    "class CleanColor(BaseEstimator, TransformerMixin):\n",
    "    \"\"\"Clean product_color column\"\"\"\n",
    "\n",
    "    def __init__(self, columns):\n",
    "        self.columns = columns\n",
    "\n",
    "    def clean_color(self, color):\n",
    "        if '&' in color.lower():\n",
    "            return('multicolor')\n",
    "        elif 'blue' in color.lower() or 'navy' in color.lower():\n",
    "            return('blue')\n",
    "        elif 'green' in color.lower():\n",
    "            return('green')\n",
    "        elif 'black' in color.lower():\n",
    "            return ('black')\n",
    "        elif 'white' in color.lower() or 'silver' in color.lower():\n",
    "            return ('white')\n",
    "        elif 'brown' in color.lower():\n",
    "            return ('brown')\n",
    "        elif 'grey' in color.lower() or 'lightgray' in color.lower():\n",
    "            return ('grey')\n",
    "        elif 'pink' in color.lower():\n",
    "            return ('pink')\n",
    "        elif 'red' in color.lower() or 'burgundy' in color.lower() or 'wine' in color.lower() or 'claret' in color.lower():\n",
    "            return ('red')\n",
    "        elif 'yellow' in color.lower():\n",
    "            return ('yellow')\n",
    "        elif 'purple' in color.lower() or 'violet' in color.lower():\n",
    "            return ('purple')\n",
    "        elif 'coffee' in color.lower() or 'camel' in color.lower() or 'khaki' in color.lower():\n",
    "            return ('brown')\n",
    "        elif 'nude' in color.lower() or 'ivory' in color.lower():\n",
    "            return ('beige')\n",
    "        elif color not in ['multicolor', 'beige', 'brown', 'purple', 'yellow',\n",
    "                           'red', 'pink', 'grey', 'white', 'black', 'blue', 'green']:\n",
    "            return ('other')\n",
    "        else:\n",
    "            return (color)\n",
    "\n",
    "    def transform(self, X, y=None):\n",
    "        target = X[self.columns].astype(str)\n",
    "        X[self.columns] = target.apply(self.clean_color)\n",
    "        return X\n",
    "\n",
    "    def fit(self, X, y=None):\n",
    "        return self"
   ]
  },
  {
   "cell_type": "code",
   "execution_count": 7,
   "metadata": {},
   "outputs": [],
   "source": [
    "class CleanSize(BaseEstimator, TransformerMixin):\n",
    "    \"\"\"Clean product_variation_size_id column\"\"\"\n",
    "\n",
    "    def __init__(self, columns):\n",
    "        self.columns = columns\n",
    "\n",
    "    def clean_size(self, size):\n",
    "        if 'xxs' in size:\n",
    "            return ('2xs')\n",
    "        if 'xxl' in size or 'xl' in size or '2xl' in size or '3xl' in size or '4xl' in size or '5xl' in size:\n",
    "            return ('l')\n",
    "        elif size not in ['s', 'xs', '2xs', 'm', 'xl', 'l']:\n",
    "            return ('other')\n",
    "        else:\n",
    "            return (size)\n",
    "\n",
    "    def transform(self, X, y=None):\n",
    "        X[self.columns] = X[self.columns].astype(str)\\\n",
    "                                         .str.lower()\\\n",
    "                                         .str.replace('[-/()&.]', ' ')\\\n",
    "                                         .str.replace('cm', '')\\\n",
    "                                         .str.replace('inch', '')\\\n",
    "                                         .str.replace('size', '')\\\n",
    "                                         .str.replace('ml', '')\\\n",
    "                                         .str.replace('xxxxxxl', '2xl')\\\n",
    "                                         .str.replace('xxxxxl', '2xl')\\\n",
    "                                         .str.replace('xxxxl', '2xl')\\\n",
    "                                         .str.replace('xxxl', '2xl')\\\n",
    "                                         .str.replace('xxl', '2xl')\\\n",
    "                                         .str.strip()\\\n",
    "                                         .str.replace('daughter m', 'm')\\\n",
    "                                         .str.replace('25 s', 's')\n",
    "        X[self.columns] = X[self.columns].apply(self.clean_size)\n",
    "        return X\n",
    "\n",
    "    def fit(self, X, y=None):\n",
    "        return self"
   ]
  },
  {
   "cell_type": "markdown",
   "metadata": {},
   "source": [
    "# Fitting Models"
   ]
  },
  {
   "cell_type": "markdown",
   "metadata": {},
   "source": [
    "## BayesianRidge"
   ]
  },
  {
   "cell_type": "code",
   "execution_count": 39,
   "metadata": {},
   "outputs": [],
   "source": [
    "cat_col = (X.dtypes == object)\n",
    "\n",
    "num_pipe = Pipeline([('scaler', StandardScaler()),\n",
    "                     ('quant', QuantileTransformer(output_distribution='normal'))])\n",
    "# normalization does improve the perforemance\n",
    "\n",
    "cat_pipe = Pipeline([('imputer', SimpleImputer(strategy='most_frequent', add_indicator=True)),\n",
    "                     ('ohe', OneHotEncoder(handle_unknown='ignore'))])\n",
    "\n",
    "preprocessor = ColumnTransformer(transformers=[('num', num_pipe, ~cat_col),\n",
    "                                               ('cat', cat_pipe, cat_col)])"
   ]
  },
  {
   "cell_type": "code",
   "execution_count": 9,
   "metadata": {},
   "outputs": [],
   "source": [
    "transformer = QuantileTransformer(output_distribution='normal')\n",
    "br = BayesianRidge()\n",
    "transformed_target = TransformedTargetRegressor(regressor=br,\n",
    "                                                transformer=transformer)\n",
    "# add QuantileTransformer for target, so regression model can be used for classification.\n",
    "\n",
    "pipe_br = Pipeline([('cc', CleanColor(columns='product_color')),\n",
    "                    ('cs', CleanSize(columns='product_variation_size_id')),\n",
    "                    ('preprocessor', preprocessor),\n",
    "                    ('imputer', IterativeImputer()),\n",
    "                    ('tr', transformed_target)\n",
    "                    ])\n",
    "# IterativeImputer before training is a must,\n",
    "# otherwise shows error: Input contains NaN, infinity or a value too large for dtype('float64')"
   ]
  },
  {
   "cell_type": "code",
   "execution_count": 10,
   "metadata": {},
   "outputs": [
    {
     "data": {
      "text/plain": [
       "{'check_inverse': True,\n",
       " 'func': None,\n",
       " 'inverse_func': None,\n",
       " 'regressor__alpha_1': 1e-06,\n",
       " 'regressor__alpha_2': 1e-06,\n",
       " 'regressor__alpha_init': None,\n",
       " 'regressor__compute_score': False,\n",
       " 'regressor__copy_X': True,\n",
       " 'regressor__fit_intercept': True,\n",
       " 'regressor__lambda_1': 1e-06,\n",
       " 'regressor__lambda_2': 1e-06,\n",
       " 'regressor__lambda_init': None,\n",
       " 'regressor__n_iter': 300,\n",
       " 'regressor__normalize': False,\n",
       " 'regressor__tol': 0.001,\n",
       " 'regressor__verbose': False,\n",
       " 'regressor': BayesianRidge(alpha_1=1e-06, alpha_2=1e-06, alpha_init=None,\n",
       "               compute_score=False, copy_X=True, fit_intercept=True,\n",
       "               lambda_1=1e-06, lambda_2=1e-06, lambda_init=None, n_iter=300,\n",
       "               normalize=False, tol=0.001, verbose=False),\n",
       " 'transformer__copy': True,\n",
       " 'transformer__ignore_implicit_zeros': False,\n",
       " 'transformer__n_quantiles': 1000,\n",
       " 'transformer__output_distribution': 'normal',\n",
       " 'transformer__random_state': None,\n",
       " 'transformer__subsample': 100000,\n",
       " 'transformer': QuantileTransformer(copy=True, ignore_implicit_zeros=False, n_quantiles=1000,\n",
       "                     output_distribution='normal', random_state=None,\n",
       "                     subsample=100000)}"
      ]
     },
     "execution_count": 10,
     "metadata": {},
     "output_type": "execute_result"
    }
   ],
   "source": [
    "pipe_br['tr'].get_params()"
   ]
  },
  {
   "cell_type": "code",
   "execution_count": 11,
   "metadata": {},
   "outputs": [
    {
     "name": "stdout",
     "output_type": "stream",
     "text": [
      "{'tr__regressor__tol': 0.001, 'tr__regressor__normalize': False, 'tr__regressor__n_iter': 3000}\n",
      "-0.1275624750692217\n",
      "{'tr__regressor__tol': 0.01, 'tr__regressor__normalize': False, 'tr__regressor__n_iter': 500}\n",
      "-0.1275624750692217\n",
      "{'tr__regressor__tol': 0.001, 'tr__regressor__normalize': False, 'tr__regressor__n_iter': 300}\n",
      "-0.1275624750692217\n",
      "{'tr__regressor__tol': 0.1, 'tr__regressor__normalize': False, 'tr__regressor__n_iter': 1000}\n",
      "-0.1275624750692217\n",
      "{'tr__regressor__tol': 0.001, 'tr__regressor__normalize': False, 'tr__regressor__n_iter': 300}\n",
      "-0.1275624750692217\n",
      "{'tr__regressor__tol': 0.01, 'tr__regressor__normalize': False, 'tr__regressor__n_iter': 1500}\n",
      "-0.1275624750692217\n",
      "{'tr__regressor__tol': 0.1, 'tr__regressor__normalize': False, 'tr__regressor__n_iter': 300}\n",
      "-0.1275624750692217\n",
      "{'tr__regressor__tol': 0.01, 'tr__regressor__normalize': False, 'tr__regressor__n_iter': 1000}\n",
      "-0.1275624750692217\n",
      "{'tr__regressor__tol': 0.001, 'tr__regressor__normalize': False, 'tr__regressor__n_iter': 2000}\n",
      "-0.1275624750692217\n",
      "{'tr__regressor__tol': 0.1, 'tr__regressor__normalize': False, 'tr__regressor__n_iter': 2000}\n",
      "-0.1275624750692217\n"
     ]
    }
   ],
   "source": [
    "hyperparameters = dict(tr__regressor__n_iter=[300, 500, 1000, 1500, 2000, 3000],\n",
    "                       tr__regressor__normalize=[True, False],\n",
    "                       tr__regressor__tol=[0.001, 0.01, 0.1])\n",
    "\n",
    "for i in range(10):\n",
    "    clf_rand_cv = RandomizedSearchCV(estimator=pipe_br,\n",
    "                                     param_distributions=hyperparameters,\n",
    "                                     n_iter=30,\n",
    "                                     cv=5,\n",
    "                                     n_jobs=-1,\n",
    "                                     verbose=False)\n",
    "    clf_rand_cv.fit(X_train, y_train)\n",
    "    print(clf_rand_cv.best_params_)\n",
    "    print(clf_rand_cv.best_score_)"
   ]
  },
  {
   "cell_type": "markdown",
   "metadata": {},
   "source": [
    "**In practice, we should put CleanColor() and CleanSize() at the begining. Including them in the pipeline even RandomizedSearch will show severe computational complexity. But it is required by hw instructions.**"
   ]
  },
  {
   "cell_type": "code",
   "execution_count": 12,
   "metadata": {},
   "outputs": [],
   "source": [
    "hypo = {'alpha_1': 1e-06,\n",
    "        'alpha_2': 1e-06,\n",
    "        'alpha_init': None,\n",
    "        'compute_score': False,\n",
    "        'copy_X': True,\n",
    "        'fit_intercept': True,\n",
    "        'lambda_1': 1e-06,\n",
    "        'lambda_2': 1e-06,\n",
    "        'lambda_init': None,\n",
    "        'n_iter': 3000,\n",
    "        'normalize': False,\n",
    "        'tol': 0.001,\n",
    "        'verbose': False}\n",
    "\n",
    "transformer = QuantileTransformer(output_distribution='normal')\n",
    "br = BayesianRidge(**hypo)\n",
    "\n",
    "transformed_target_regr = TransformedTargetRegressor(regressor=br,\n",
    "                                                     transformer=transformer)"
   ]
  },
  {
   "cell_type": "code",
   "execution_count": 13,
   "metadata": {},
   "outputs": [],
   "source": [
    "pipe_br = Pipeline([('cc', CleanColor(columns='product_color')),\n",
    "                    ('cs', CleanSize(columns='product_variation_size_id')),\n",
    "                    ('preprocessor', preprocessor),\n",
    "                    ('imputer', IterativeImputer()),\n",
    "                    ('tr', transformed_target)\n",
    "                    ])"
   ]
  },
  {
   "cell_type": "code",
   "execution_count": 14,
   "metadata": {},
   "outputs": [],
   "source": [
    "model_br = pipe_br.fit(X_train, y_train.values.ravel())"
   ]
  },
  {
   "cell_type": "code",
   "execution_count": 15,
   "metadata": {},
   "outputs": [],
   "source": [
    "preds = model_br.predict(X_test)"
   ]
  },
  {
   "cell_type": "markdown",
   "metadata": {},
   "source": [
    "### Evaluation Metric"
   ]
  },
  {
   "cell_type": "markdown",
   "metadata": {},
   "source": [
    "### Confusion Matrix"
   ]
  },
  {
   "cell_type": "code",
   "execution_count": 17,
   "metadata": {},
   "outputs": [
    {
     "data": {
      "text/plain": [
       "array([[24, 38],\n",
       "       [ 9, 87]])"
      ]
     },
     "execution_count": 17,
     "metadata": {},
     "output_type": "execute_result"
    }
   ],
   "source": [
    "cm = confusion_matrix(y_test, preds)\n",
    "cm"
   ]
  },
  {
   "cell_type": "code",
   "execution_count": 18,
   "metadata": {},
   "outputs": [
    {
     "data": {
      "text/plain": [
       "<sklearn.metrics._plot.confusion_matrix.ConfusionMatrixDisplay at 0x7fb4e90ce280>"
      ]
     },
     "execution_count": 18,
     "metadata": {},
     "output_type": "execute_result"
    },
    {
     "data": {
      "image/png": "[encoded data removed]",
      "text/plain": [
       "<Figure size 432x288 with 2 Axes>"
      ]
     },
     "metadata": {
      "needs_background": "light"
     },
     "output_type": "display_data"
    }
   ],
   "source": [
    "from sklearn.metrics import ConfusionMatrixDisplay\n",
    "\n",
    "cmd = ConfusionMatrixDisplay(cm, display_labels=['0', '1'])\n",
    "cmd.plot()"
   ]
  },
  {
   "cell_type": "markdown",
   "metadata": {},
   "source": [
    "### F1 Score"
   ]
  },
  {
   "cell_type": "code",
   "execution_count": 19,
   "metadata": {},
   "outputs": [
    {
     "data": {
      "text/plain": [
       "0.7873303167420814"
      ]
     },
     "execution_count": 19,
     "metadata": {},
     "output_type": "execute_result"
    }
   ],
   "source": [
    "f1_score(y_test, preds)"
   ]
  },
  {
   "cell_type": "markdown",
   "metadata": {},
   "source": [
    "## Decision Tree"
   ]
  },
  {
   "cell_type": "code",
   "execution_count": 20,
   "metadata": {},
   "outputs": [],
   "source": [
    "pipe_dt = Pipeline([('cc', CleanColor(columns='product_color')),\n",
    "                    ('cs', CleanSize(columns='product_variation_size_id')),\n",
    "                    ('preprocessor', preprocessor),\n",
    "                    ('imputer',IterativeImputer()),\n",
    "                    ('clf', DecisionTreeClassifier())])"
   ]
  },
  {
   "cell_type": "code",
   "execution_count": 21,
   "metadata": {},
   "outputs": [
    {
     "name": "stdout",
     "output_type": "stream",
     "text": [
      "{'clf__min_weight_fraction_leaf': 0.0, 'clf__min_samples_split': 4, 'clf__min_samples_leaf': 1, 'clf__max_features': 'auto', 'clf__max_depth': 60, 'clf__criterion': 'gini', 'clf__class_weight': 'balanced'}\n",
      "0.7272084805653709\n",
      "{'clf__min_weight_fraction_leaf': 0.0, 'clf__min_samples_split': 4, 'clf__min_samples_leaf': 3, 'clf__max_features': 'sqrt', 'clf__max_depth': 50, 'clf__criterion': 'gini', 'clf__class_weight': 'balanced'}\n",
      "0.7123674911660778\n",
      "{'clf__min_weight_fraction_leaf': 0.0, 'clf__min_samples_split': 3, 'clf__min_samples_leaf': 5, 'clf__max_features': 'auto', 'clf__max_depth': 50, 'clf__criterion': 'gini', 'clf__class_weight': 'balanced'}\n",
      "0.7328621908127209\n",
      "{'clf__min_weight_fraction_leaf': 0.0, 'clf__min_samples_split': 2, 'clf__min_samples_leaf': 4, 'clf__max_features': 'auto', 'clf__max_depth': 30, 'clf__criterion': 'gini', 'clf__class_weight': 'balanced'}\n",
      "0.719434628975265\n",
      "{'clf__min_weight_fraction_leaf': 0.0, 'clf__min_samples_split': 3, 'clf__min_samples_leaf': 2, 'clf__max_features': 'log2', 'clf__max_depth': 20, 'clf__criterion': 'entropy', 'clf__class_weight': 'balanced'}\n",
      "0.7017667844522968\n",
      "{'clf__min_weight_fraction_leaf': 0.0, 'clf__min_samples_split': 2, 'clf__min_samples_leaf': 1, 'clf__max_features': 'auto', 'clf__max_depth': 50, 'clf__criterion': 'gini', 'clf__class_weight': 'balanced'}\n",
      "0.7286219081272083\n",
      "{'clf__min_weight_fraction_leaf': 0.0, 'clf__min_samples_split': 2, 'clf__min_samples_leaf': 4, 'clf__max_features': 'sqrt', 'clf__max_depth': 30, 'clf__criterion': 'gini', 'clf__class_weight': 'balanced'}\n",
      "0.727208480565371\n",
      "{'clf__min_weight_fraction_leaf': 0.0, 'clf__min_samples_split': 2, 'clf__min_samples_leaf': 5, 'clf__max_features': 'auto', 'clf__max_depth': 40, 'clf__criterion': 'gini', 'clf__class_weight': 'balanced'}\n",
      "0.703886925795053\n",
      "{'clf__min_weight_fraction_leaf': 0.0, 'clf__min_samples_split': 2, 'clf__min_samples_leaf': 4, 'clf__max_features': 'auto', 'clf__max_depth': 10, 'clf__criterion': 'entropy', 'clf__class_weight': 'balanced'}\n",
      "0.7236749116607774\n",
      "{'clf__min_weight_fraction_leaf': 0.0, 'clf__min_samples_split': 2, 'clf__min_samples_leaf': 1, 'clf__max_features': 'sqrt', 'clf__max_depth': 30, 'clf__criterion': 'entropy', 'clf__class_weight': 'balanced'}\n",
      "0.7378091872791519\n"
     ]
    }
   ],
   "source": [
    "hyperparameters = dict(clf__criterion        = ['gini','entropy'],\n",
    "                       clf__max_depth = [10,20,30,40,50,60],\n",
    "                       clf__min_samples_split = [1,2,3,4,5],\n",
    "                       clf__min_samples_leaf = [1,2,3,4,5],\n",
    "                       clf__min_weight_fraction_leaf = [0.0,0.1,0.2],\n",
    "                       clf__max_features = ['auto', 'sqrt', 'log2'],\n",
    "                       clf__class_weight = ['balanced'])\n",
    "\n",
    "for i in range(10):\n",
    "    clf_rand_cv = RandomizedSearchCV(estimator=pipe_dt, \n",
    "                              param_distributions=hyperparameters, \n",
    "                              n_iter=30,\n",
    "                              cv=5, \n",
    "                              n_jobs=-1,\n",
    "                              verbose=False)\n",
    "    model = clf_rand_cv.fit(X_train, y_train)\n",
    "    print(clf_rand_cv.best_params_) \n",
    "    print(clf_rand_cv.best_score_)"
   ]
  },
  {
   "cell_type": "markdown",
   "metadata": {},
   "source": [
    "**In practice, we should put CleanColor() and CleanSize() at the begining. Including them in the pipeline even RandomizedSearch will show severe computational complexity. But it is required by hw instructions.**"
   ]
  },
  {
   "cell_type": "code",
   "execution_count": 30,
   "metadata": {},
   "outputs": [],
   "source": [
    "pipe_dt = Pipeline([('cc', CleanColor(columns='product_color')),\n",
    "                    ('cs', CleanSize(columns='product_variation_size_id')),\n",
    "                    ('preprocessor', preprocessor),\n",
    "                    ('imputer',IterativeImputer()),\n",
    "                    ('clf', DecisionTreeClassifier(min_samples_split=2,\n",
    "                                                   min_samples_leaf=1,\n",
    "                                                   max_features='auto',\n",
    "                                                   max_depth=20,\n",
    "                                                   criterion='entropy',\n",
    "                                                   class_weight='balanced'))])\n",
    "model_dt = pipe_dt.fit(X_train, y_train)"
   ]
  },
  {
   "cell_type": "code",
   "execution_count": 31,
   "metadata": {},
   "outputs": [],
   "source": [
    "preds = model_dt.predict(X_test)"
   ]
  },
  {
   "cell_type": "markdown",
   "metadata": {},
   "source": [
    "### Evaluation Metric"
   ]
  },
  {
   "cell_type": "markdown",
   "metadata": {},
   "source": [
    "### Confusion Matrix"
   ]
  },
  {
   "cell_type": "code",
   "execution_count": 32,
   "metadata": {},
   "outputs": [
    {
     "data": {
      "text/plain": [
       "array([[42, 20],\n",
       "       [12, 84]])"
      ]
     },
     "execution_count": 32,
     "metadata": {},
     "output_type": "execute_result"
    }
   ],
   "source": [
    "cm = confusion_matrix(y_test,preds)\n",
    "cm"
   ]
  },
  {
   "cell_type": "code",
   "execution_count": 33,
   "metadata": {},
   "outputs": [
    {
     "data": {
      "text/plain": [
       "<sklearn.metrics._plot.confusion_matrix.ConfusionMatrixDisplay at 0x7fb4ef0f6400>"
      ]
     },
     "execution_count": 33,
     "metadata": {},
     "output_type": "execute_result"
    },
    {
     "data": {
      "image/png": "[encoded data removed]",
      "text/plain": [
       "<Figure size 432x288 with 2 Axes>"
      ]
     },
     "metadata": {
      "needs_background": "light"
     },
     "output_type": "display_data"
    }
   ],
   "source": [
    "cmd = ConfusionMatrixDisplay(cm, display_labels=['0','1'])\n",
    "cmd.plot()"
   ]
  },
  {
   "cell_type": "markdown",
   "metadata": {},
   "source": [
    "### F1 Score"
   ]
  },
  {
   "cell_type": "code",
   "execution_count": 34,
   "metadata": {},
   "outputs": [
    {
     "data": {
      "text/plain": [
       "0.8400000000000001"
      ]
     },
     "execution_count": 34,
     "metadata": {},
     "output_type": "execute_result"
    }
   ],
   "source": [
    "f1_score(y_test,preds)"
   ]
  },
  {
   "cell_type": "markdown",
   "metadata": {},
   "source": [
    "### ROC Curve"
   ]
  },
  {
   "cell_type": "code",
   "execution_count": 35,
   "metadata": {},
   "outputs": [],
   "source": [
    "probs = model_dt.predict_proba(X_test)[:,1]"
   ]
  },
  {
   "cell_type": "code",
   "execution_count": 36,
   "metadata": {},
   "outputs": [
    {
     "data": {
      "text/plain": [
       "0.7755376344086021"
      ]
     },
     "execution_count": 36,
     "metadata": {},
     "output_type": "execute_result"
    }
   ],
   "source": [
    "roc_auc_score(y_test,probs)"
   ]
  },
  {
   "cell_type": "code",
   "execution_count": 37,
   "metadata": {},
   "outputs": [
    {
     "data": {
      "image/png": "[encoded data removed]",
      "text/plain": [
       "<Figure size 432x288 with 1 Axes>"
      ]
     },
     "metadata": {
      "needs_background": "light"
     },
     "output_type": "display_data"
    }
   ],
   "source": [
    "plot_roc_curve(pipe_dt, X_test, y_test) \n",
    "plt.show()  "
   ]
  },
  {
   "cell_type": "code",
   "execution_count": null,
   "metadata": {},
   "outputs": [],
   "source": []
  }
 ],
 "metadata": {
  "kernelspec": {
   "display_name": "Python 3",
   "language": "python",
   "name": "python3"
  },
  "language_info": {
   "codemirror_mode": {
    "name": "ipython",
    "version": 3
   },
   "file_extension": ".py",
   "mimetype": "text/x-python",
   "name": "python",
   "nbconvert_exporter": "python",
   "pygments_lexer": "ipython3",
   "version": "3.8.3"
  }
 },
 "nbformat": 4,
 "nbformat_minor": 4
}
